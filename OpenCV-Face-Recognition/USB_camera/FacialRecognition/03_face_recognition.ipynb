{
 "cells": [
  {
   "cell_type": "code",
   "execution_count": 1,
   "metadata": {},
   "outputs": [],
   "source": [
    "import cv2 , os , ipywidgets , traitlets\n",
    "import numpy as np\n",
    "import ipywidgets.widgets as widgets\n",
    "from IPython.display import display\n",
    "from jetcam.utils import bgr8_to_jpeg\n",
    "from jetcam.usb_camera import USBCamera # USBCamera(width=224, height=224, capture_width=video_width, capture_height=video_height, capture_flip=0 , capture_device=0)"
   ]
  },
  {
   "cell_type": "code",
   "execution_count": 2,
   "metadata": {},
   "outputs": [],
   "source": [
    "def bgr8_to_jpeg(value, quality=75):\n",
    "    return bytes(cv2.imencode('.jpg', value)[1])"
   ]
  },
  {
   "cell_type": "code",
   "execution_count": 5,
   "metadata": {},
   "outputs": [],
   "source": [
    "USBCamera.capture_flip = 0\n",
    "camera = USBCamera()"
   ]
  },
  {
   "cell_type": "code",
   "execution_count": null,
   "metadata": {},
   "outputs": [],
   "source": [
    "recognizer = cv2.face.LBPHFaceRecognizer_create()\n",
    "recognizer.read('trainer/trainer.yml')\n",
    "cascadePath = \"haarcascade_frontalface_default.xml\"\n",
    "faceCascade = cv2.CascadeClassifier(cascadePath);\n",
    "\n",
    "font = cv2.FONT_HERSHEY_SIMPLEX\n",
    "\n",
    "#iniciate id counter\n",
    "id = 0\n",
    "\n",
    "# names related to ids: example ==> Marcelo: id=1,  etc\n",
    "names = ['None', 'Joe', 'Paula', 'Ilza', 'Z', 'W'] \n",
    "\n",
    "# Initialize and start realtime video capture"
   ]
  },
  {
   "cell_type": "code",
   "execution_count": null,
   "metadata": {},
   "outputs": [],
   "source": [
    "# Define min window size to be recognized as a face\n",
    "video_width = 640\n",
    "video_height = 480\n",
    "minW = 0.1 * video_width\n",
    "minH = 0.1 * video_height\n",
    "\n",
    "# predent image path\n",
    "present_image_folde = \"image/\"\n",
    "present_image = bgr8_to_jpeg( cv2.imread(present_image_folde + \"None.jpg\") )\n",
    "present_image_widget = widgets.Image(format='jpeg', width=224, height=224, value=present_image)"
   ]
  },
  {
   "cell_type": "code",
   "execution_count": null,
   "metadata": {},
   "outputs": [],
   "source": [
    "def face_recognition(camera_image):\n",
    "    global id ,minW,minH , present_image\n",
    "    face_image = np.copy(camera_image)\n",
    "    gray = cv2.cvtColor(face_image, cv2.COLOR_BGR2GRAY)\n",
    "\n",
    "    faces = faceCascade.detectMultiScale( \n",
    "        gray,\n",
    "        scaleFactor = 1.2,\n",
    "        minNeighbors = 5,\n",
    "        minSize = (int(minW), int(minH)),\n",
    "       )\n",
    "    \n",
    "    for(x,y,w,h) in faces:\n",
    "\n",
    "        face_image = cv2.rectangle(face_image, (x,y), (x+w,y+h), (0,255,0), 2)\n",
    "        id, confidence = recognizer.predict(gray[y:y+h,x:x+w])\n",
    "\n",
    "        # Check if confidence is less them 100 ==> \"0\" is perfect match \n",
    "        if (confidence < 100):\n",
    "            id = names[id]\n",
    "            confidence = \"  {0}%\".format(round(confidence))\n",
    "        else:\n",
    "            id = \"unknown\"\n",
    "            confidence = \"  {0}%\".format(round(100 - confidence))\n",
    "        \n",
    "        face_image = cv2.putText(face_image, str(id), (x+5,y-5), font, 1, (255,255,255), 2)\n",
    "        face_image = cv2.putText(face_image, str(confidence), (x+5,y+h-5), font, 1, (255,255,0), 1)\n",
    "        \n",
    "        if id in names :\n",
    "            if id != 'None' or id != 'unknown':\n",
    "                present_image = bgr8_to_jpeg( cv2.imread(present_image_folde + str(id) + \".jpg\"))\n",
    "                present_image_widget.value = present_image\n",
    "         \n",
    "    face_jpeg_image = bgr8_to_jpeg(face_image)   \n",
    "    return face_jpeg_image"
   ]
  },
  {
   "cell_type": "code",
   "execution_count": null,
   "metadata": {},
   "outputs": [],
   "source": [
    "image_widget = widgets.Image(format='jpeg', width=224, height=224)\n",
    "traitlets.dlink((camera, 'value'), (image_widget, 'value'), transform=face_recognition)\n",
    "display(widgets.HBox([image_widget ,present_image_widget ]))"
   ]
  },
  {
   "cell_type": "code",
   "execution_count": null,
   "metadata": {},
   "outputs": [],
   "source": [
    "camera.running = True\n",
    "\n",
    "def update_image(change):\n",
    "    image = change['new']\n",
    "    \n",
    "camera.observe(update_image, names='value')"
   ]
  },
  {
   "cell_type": "code",
   "execution_count": null,
   "metadata": {},
   "outputs": [],
   "source": [
    "camera.running = False\n",
    "camera.unobserve(update_image, names='value')"
   ]
  }
 ],
 "metadata": {
  "kernelspec": {
   "display_name": "Python 3",
   "language": "python",
   "name": "python3"
  },
  "language_info": {
   "codemirror_mode": {
    "name": "ipython",
    "version": 3
   },
   "file_extension": ".py",
   "mimetype": "text/x-python",
   "name": "python",
   "nbconvert_exporter": "python",
   "pygments_lexer": "ipython3",
   "version": "3.6.8"
  }
 },
 "nbformat": 4,
 "nbformat_minor": 2
}

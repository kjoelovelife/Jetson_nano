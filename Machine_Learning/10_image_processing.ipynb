{
 "cells": [
  {
   "cell_type": "markdown",
   "metadata": {},
   "source": [
    "Image processing\n",
    "-----------------\n",
    "first , we need to import some packages."
   ]
  },
  {
   "cell_type": "code",
   "execution_count": null,
   "metadata": {},
   "outputs": [],
   "source": [
    "import cv2\n",
    "import numpy as np\n",
    "import matplotlib.pyplot as plt"
   ]
  },
  {
   "cell_type": "markdown",
   "metadata": {},
   "source": [
    "Color\n",
    "--------------\n",
    "Notice color Sequentially \n",
    "\n",
    "* opencv    : (B,G,R)\n",
    "\n",
    "* matplolib : (R,G,B)\n",
    "\n",
    "Now we use matplotlib show these images.\n",
    "\n",
    "Usually , we use black-white images to do something , because it can reduce the complexity. "
   ]
  },
  {
   "cell_type": "code",
   "execution_count": null,
   "metadata": {},
   "outputs": [],
   "source": [
    "coin_path = \"data/image_processing/coin.png\"\n",
    "image = cv2.imread(coin_path)\n",
    "image_plt = cv2.cvtColor(image, cv2.COLOR_BGR2RGB)\n",
    "gray = cv2.cvtColor(image, cv2.COLOR_BGR2GRAY)\n",
    "plt.figure()\n",
    "plt.subplot(1,2,1)\n",
    "plt.imshow(image_plt)\n",
    "## reference : https://www.cnblogs.com/denny402/p/5122594.html\n",
    "plt.subplot(1,2,2)\n",
    "plt.imshow(gray, cmap=plt.get_cmap('gray'))"
   ]
  },
  {
   "cell_type": "markdown",
   "metadata": {},
   "source": [
    "Blurry\n",
    "------------\n",
    "\n",
    "If there are a lot of noise in image , we couldn't distinguish what the object is. \n",
    "\n",
    "So we have to use a function to reduce noice. One way is using blurring.\n",
    "\n",
    "Next , we'll use Gaussian Blur to make images blurry.\n",
    "\n",
    "* Gaussian api on opencv : cv2.GaussianBlur( image , ( w , h ) , std ) "
   ]
  },
  {
   "cell_type": "code",
   "execution_count": null,
   "metadata": {},
   "outputs": [],
   "source": [
    "blurred = {\n",
    "            1 :  cv2.GaussianBlur(gray, (1, 1),0),\n",
    "            3 :  cv2.GaussianBlur(gray, (3, 3),0),\n",
    "            5 :  cv2.GaussianBlur(gray, (5, 5),0),\n",
    "            7 :  cv2.GaussianBlur(gray, (7, 7),0),\n",
    "            9 :  cv2.GaussianBlur(gray, (9, 9),0)    \n",
    "          } \n",
    "blurred_index = 9 \n",
    "plt.figure()\n",
    "plt.imshow(blurred[blurred_index], cmap=plt.get_cmap('gray'))"
   ]
  },
  {
   "cell_type": "markdown",
   "metadata": {},
   "source": [
    "edge\n",
    "-------\n",
    "\n",
    "we can use ``canny`` to find the edge.\n",
    "* cv2.canny(image, upper_threshold , lower_threshold )"
   ]
  },
  {
   "cell_type": "code",
   "execution_count": null,
   "metadata": {},
   "outputs": [],
   "source": [
    "fig = plt.figure()\n",
    "for index in range(1,10,2):\n",
    "    canny = cv2.Canny(blurred[index], 30, 150)\n",
    "    ax = fig.add_subplot(330 + index)\n",
    "    ax.set_title(index)\n",
    "    plt.subplot(3,3,index)\n",
    "    plt.imshow(canny , cmap=plt.get_cmap('gray'))"
   ]
  },
  {
   "cell_type": "markdown",
   "metadata": {},
   "source": [
    "Contour\n",
    "--------------\n",
    "\n",
    "Notce : \n",
    "\n",
    "When use \n",
    "\n",
    "* cv2.drawContours()original \n",
    "\n",
    "image will be modified."
   ]
  },
  {
   "cell_type": "code",
   "execution_count": null,
   "metadata": {},
   "outputs": [],
   "source": [
    "fig = plt.figure()\n",
    "coin_canny = cv2.Canny(blurred[9], 30, 150)\n",
    "# reference : https://blog.csdn.net/on2way/article/details/46812121\n",
    "ret, binary = cv2.threshold(coin_canny,127,255,cv2.THRESH_BINARY)\n",
    "\n",
    "# reference : https://blog.csdn.net/hjxu2016/article/details/77833336\n",
    "contours,hierarchy= cv2.findContours(binary, cv2.RETR_TREE , cv2.CHAIN_APPROX_SIMPLE) #cv2.RETR_TREE\n",
    "image = cv2.imread(coin_path)\n",
    "coin_contours_image = cv2.drawContours(image,contours,-1,(0,0,255),thickness=0)\n",
    "coin_contours_plt = cv2.cvtColor(coin_contours_image, cv2.COLOR_BGR2RGB)\n",
    "plt.imshow(coin_contours_plt)"
   ]
  },
  {
   "cell_type": "markdown",
   "metadata": {},
   "source": [
    "we also can find the center. Use :\n",
    "\n",
    "* cv2.moments(contours)\n",
    "\n",
    "Marks :\n",
    "\n",
    "* cv2.circle(image, (cX,cY), radius, color, thickness)"
   ]
  },
  {
   "cell_type": "code",
   "execution_count": null,
   "metadata": {},
   "outputs": [],
   "source": [
    "# reference : https://chtseng.wordpress.com/2016/12/05/opencv-contour%E8%BC%AA%E5%BB%93/\n",
    "clone_center = coin_contours_image.copy()\n",
    "for cnt in contours:\n",
    "    Moments = cv2.moments(cnt)\n",
    "    cX = int(Moments['m10'] / Moments['m00'])\n",
    "    cY = int(Moments['m01'] / Moments['m00'])\n",
    "    clone_center = cv2.circle(clone_center,(cX,cY),10,(1,227,254),-1)\n",
    "    \n",
    "    \n",
    "clone_center = cv2.cvtColor(clone_center, cv2.COLOR_BGR2RGB)\n",
    "plt.figure()\n",
    "plt.imshow(clone_center)"
   ]
  },
  {
   "cell_type": "markdown",
   "metadata": {},
   "source": [
    "Use fitting rectangle\n",
    "\n",
    "We can use :\n",
    "\n",
    "* fit rectangle : cv2.boundingRect(Contours)"
   ]
  },
  {
   "cell_type": "code",
   "execution_count": null,
   "metadata": {},
   "outputs": [],
   "source": [
    "image = cv2.imread(coin_path)\n",
    "\n",
    "for cnt in contours: \n",
    "    (x,y,w,h) = cv2.boundingRect(cnt)\n",
    "    cv2.rectangle(image, (x, y), (x + w, y + h), (0, 255, 0), 2)\n",
    "\n",
    "image = cv2.cvtColor(image, cv2.COLOR_BGR2RGB) \n",
    "plt.imshow(image)\n"
   ]
  },
  {
   "cell_type": "code",
   "execution_count": null,
   "metadata": {},
   "outputs": [],
   "source": []
  }
 ],
 "metadata": {
  "kernelspec": {
   "display_name": "Python 3",
   "language": "python",
   "name": "python3"
  },
  "language_info": {
   "codemirror_mode": {
    "name": "ipython",
    "version": 3
   },
   "file_extension": ".py",
   "mimetype": "text/x-python",
   "name": "python",
   "nbconvert_exporter": "python",
   "pygments_lexer": "ipython3",
   "version": "3.6.9"
  }
 },
 "nbformat": 4,
 "nbformat_minor": 4
}

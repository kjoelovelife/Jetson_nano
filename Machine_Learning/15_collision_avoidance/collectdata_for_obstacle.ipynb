{
 "cells": [
  {
   "cell_type": "markdown",
   "metadata": {},
   "source": [
    "### Step1. import library"
   ]
  },
  {
   "cell_type": "code",
   "execution_count": 1,
   "metadata": {},
   "outputs": [],
   "source": [
    "import traitlets , time\n",
    "import ipywidgets.widgets as widgets\n",
    "from IPython.display import display\n",
    "from jetbot import Camera, bgr8_to_jpeg\n",
    "from jetbot import Robot"
   ]
  },
  {
   "cell_type": "markdown",
   "metadata": {},
   "source": [
    "### Display live camera feed\n",
    "\n",
    "So let's get started.  First, let's initialize and display our camera like we did in the *teleoperation* notebook.  \n",
    "\n",
    "> Our neural network takes a 224x224 pixel image as input.  We'll set our camera to that size to minimize the filesize of our dataset (we've tested that it works for this task).\n",
    "> In some scenarios it may be better to collect data in a larger image size and downscale to the desired size later."
   ]
  },
  {
   "cell_type": "code",
   "execution_count": 2,
   "metadata": {},
   "outputs": [
    {
     "data": {
      "application/vnd.jupyter.widget-view+json": {
       "model_id": "284401d2bfa248c2bc9536713407a5d7",
       "version_major": 2,
       "version_minor": 0
      },
      "text/plain": [
       "Image(value=b'\\xff\\xd8\\xff\\xe0\\x00\\x10JFIF\\x00\\x01\\x01\\x00\\x00\\x01\\x00\\x01\\x00\\x00\\xff\\xdb\\x00C\\x00\\x02\\x01\\x0…"
      ]
     },
     "metadata": {},
     "output_type": "display_data"
    }
   ],
   "source": [
    "camera = Camera.instance(capture_flip = 2,width=224, height=224 , capture_device=1)\n",
    "\n",
    "image = widgets.Image(format='jpeg', width=224, height=224 )  # this width and height doesn't necessarily have to match the camera\n",
    "\n",
    "camera_link = traitlets.dlink((camera, 'value'), (image, 'value'), transform=bgr8_to_jpeg)\n",
    "\n",
    "display(image)"
   ]
  },
  {
   "cell_type": "markdown",
   "metadata": {},
   "source": [
    "Awesome, next let's create a few directories where we'll store all our data. We'll create a folder dataset that will contain two sub-folders free and blocked, where we'll place the images for each scenario."
   ]
  },
  {
   "cell_type": "code",
   "execution_count": 3,
   "metadata": {},
   "outputs": [
    {
     "name": "stdout",
     "output_type": "stream",
     "text": [
      "dataset/0_free\n",
      "dataset/1_green_light\n",
      "dataset/2_red_light\n",
      "dataset/3_parking\n",
      "dataset/4_zebra\n",
      "dataset/5_fence_open\n",
      "dataset/6_fence_close\n",
      "dataset/7_duck\n"
     ]
    }
   ],
   "source": [
    "import os\n",
    "\n",
    "item = ['free' , 'green_light' , 'red_light' , 'parking' , 'zebra' , 'fence_open' , 'fence_close' , 'duck']\n",
    "dataset_dir = {}\n",
    "for name in item:\n",
    "    dataset_dir[name]= 'dataset/' + str( item.index(name) ) + '_' + name\n",
    "    print(dataset_dir[name])\n",
    "# we have this \"try/except\" statement because these next functions can throw an error if the directories exist already\n",
    "\n",
    "try:\n",
    "    for name in dataset_dir.keys() :\n",
    "        os.makedirs(dataset_dir[name])\n",
    "except FileExistsError:\n",
    "    print('Directories not created becasue they already exist')"
   ]
  },
  {
   "cell_type": "markdown",
   "metadata": {},
   "source": [
    "If you refresh the Jupyter file browser on the left, you should now see those directories appear.  Next, let's create and display some buttons that we'll use to save snapshots\n",
    "for each class label.  We'll also add some text boxes that will display how many images of each category that we've collected so far. This is useful because we want to make\n",
    "sure we collect about as many images.  It also helps to know how many images we've collected overall."
   ]
  },
  {
   "cell_type": "code",
   "execution_count": 4,
   "metadata": {},
   "outputs": [
    {
     "data": {
      "application/vnd.jupyter.widget-view+json": {
       "model_id": "54e470d08ca34f90b71dc6dee79c936f",
       "version_major": 2,
       "version_minor": 0
      },
      "text/plain": [
       "HBox(children=(Button(button_style='success', description='free', layout=Layout(height='64px', width='128px'),…"
      ]
     },
     "metadata": {},
     "output_type": "display_data"
    },
    {
     "data": {
      "application/vnd.jupyter.widget-view+json": {
       "model_id": "aac38172c0ed4922afa20d905c917964",
       "version_major": 2,
       "version_minor": 0
      },
      "text/plain": [
       "HBox(children=(Button(button_style='success', description='green_light', layout=Layout(height='64px', width='1…"
      ]
     },
     "metadata": {},
     "output_type": "display_data"
    },
    {
     "data": {
      "application/vnd.jupyter.widget-view+json": {
       "model_id": "1b14a7d3f0d04b08a5080562ce2f011f",
       "version_major": 2,
       "version_minor": 0
      },
      "text/plain": [
       "HBox(children=(Button(button_style='success', description='red_light', layout=Layout(height='64px', width='128…"
      ]
     },
     "metadata": {},
     "output_type": "display_data"
    },
    {
     "data": {
      "application/vnd.jupyter.widget-view+json": {
       "model_id": "9fda6f39e3cf4c1cbc924b63463c5946",
       "version_major": 2,
       "version_minor": 0
      },
      "text/plain": [
       "HBox(children=(Button(button_style='success', description='parking', layout=Layout(height='64px', width='128px…"
      ]
     },
     "metadata": {},
     "output_type": "display_data"
    },
    {
     "data": {
      "application/vnd.jupyter.widget-view+json": {
       "model_id": "0cb80d3701934eba9332de4103b6bfdf",
       "version_major": 2,
       "version_minor": 0
      },
      "text/plain": [
       "HBox(children=(Button(button_style='success', description='zebra', layout=Layout(height='64px', width='128px')…"
      ]
     },
     "metadata": {},
     "output_type": "display_data"
    },
    {
     "data": {
      "application/vnd.jupyter.widget-view+json": {
       "model_id": "df1322ffb20843ae88e7cd5109a48086",
       "version_major": 2,
       "version_minor": 0
      },
      "text/plain": [
       "HBox(children=(Button(button_style='success', description='fence_open', layout=Layout(height='64px', width='12…"
      ]
     },
     "metadata": {},
     "output_type": "display_data"
    },
    {
     "data": {
      "application/vnd.jupyter.widget-view+json": {
       "model_id": "d02f413668994d0a8b09b7754189d4b1",
       "version_major": 2,
       "version_minor": 0
      },
      "text/plain": [
       "HBox(children=(Button(button_style='success', description='fence_close', layout=Layout(height='64px', width='1…"
      ]
     },
     "metadata": {},
     "output_type": "display_data"
    },
    {
     "data": {
      "application/vnd.jupyter.widget-view+json": {
       "model_id": "90f2da1cbb0d4ada9c0894722fcfccd7",
       "version_major": 2,
       "version_minor": 0
      },
      "text/plain": [
       "HBox(children=(Button(button_style='success', description='duck', layout=Layout(height='64px', width='128px'),…"
      ]
     },
     "metadata": {},
     "output_type": "display_data"
    }
   ],
   "source": [
    "button_layout = widgets.Layout(width='128px', height='64px')\n",
    "button_style = ['primary', 'success', 'info', 'warning', 'danger', '']\n",
    "\n",
    "button = {}\n",
    "count  = {}\n",
    "\n",
    "for name in item:\n",
    "    button[ name ] = widgets.Button(description= name, button_style='success', layout=button_layout)\n",
    "    count[ name ]  = widgets.IntText(layout=button_layout, value=len(os.listdir( dataset_dir[name])))\n",
    "    display(widgets.HBox([ button[ name], count[name] ] ) ) \n",
    "    button[ name ].button_style = button_style[ item.index(name) % 6 ]\n",
    "\n",
    "## you can change the color of button\n",
    "button[ 'green_light' ].button_style = 'primary' \n",
    "button[ 'green_light' ].button_style = 'success'    \n",
    "button[ 'red_light' ].button_style = 'danger'\n",
    "button[ 'parking' ].button_style = 'info'"
   ]
  },
  {
   "cell_type": "markdown",
   "metadata": {},
   "source": [
    "Right now, these buttons wont do anything.  We have to attach functions to save images for each category to the buttons' ``on_click`` event.  We'll save the value\n",
    "of the ``Image`` widget (rather than the camera), because it's already in compressed JPEG format!\n",
    "\n",
    "To make sure we don't repeat any file names (even across different machines!) we'll use the ``uuid`` package in python, which defines the ``uuid1`` method to generate\n",
    "a unique identifier.  This unique identifier is generated from information like the current time and the machine address.\n",
    "\n",
    "If you want to test something , you can use it : \n",
    "\n",
    "test = widgets.Text(\n",
    "    value='Hello World',\n",
    "    placeholder='Type something',\n",
    "    description='String:',\n",
    "    disabled=False\n",
    "    )"
   ]
  },
  {
   "cell_type": "code",
   "execution_count": 5,
   "metadata": {},
   "outputs": [],
   "source": [
    "from uuid import uuid1\n",
    "\n",
    "class save_image():\n",
    "    def __init__(self,item , dataset_dir):\n",
    "        self.item = item\n",
    "        self.dataset_dir = dataset_dir\n",
    "\n",
    "    def save_name(self , kind_of_item):\n",
    "        self.save_snapshot(kind_of_item)\n",
    "        count[ kind_of_item ].value = len(os.listdir( dataset_dir[kind_of_item]))\n",
    "            \n",
    "    def save_snapshot(self,name):\n",
    "        global image_path\n",
    "        image_path = os.path.join(self.dataset_dir[name], str(uuid1()) + '.jpg')\n",
    "        with open(image_path, 'wb') as f:\n",
    "            f.write(image.value)    \n",
    "\n",
    "            "
   ]
  },
  {
   "cell_type": "markdown",
   "metadata": {},
   "source": [
    "# Notice\n",
    "Now , you can choose keyboard or joystick to teleop Jetbot to collected data.\n",
    "But remember , you just only can select one to do."
   ]
  },
  {
   "cell_type": "markdown",
   "metadata": {},
   "source": [
    "### Use Keyboard "
   ]
  },
  {
   "cell_type": "code",
   "execution_count": 6,
   "metadata": {},
   "outputs": [],
   "source": [
    "# attach the callbacks, we use a 'lambda' function to ignore the\n",
    "# parameter that the on_click event would provide to our function\n",
    "# because we don't need it.\n",
    "# If you have four serval items to do , please add :  button[item[number]].on_click(lambda x: button_reaction.save_name(item[number]) )\n",
    "# number is your item index , start at 0 .\n",
    "button_reaction = save_image(item,dataset_dir)\n",
    "button[item[0]].on_click(lambda x: button_reaction.save_name(item[0]) ) # \" controller_button['X'] \"\n",
    "button[item[1]].on_click(lambda x: button_reaction.save_name(item[1]) ) # \" controller_button['Y'] \"\n",
    "button[item[2]].on_click(lambda x: button_reaction.save_name(item[2]) ) # \" controller_button['B'] \"\n",
    "button[item[3]].on_click(lambda x: button_reaction.save_name(item[3]) ) # \" controller_button['A'] \"\n",
    "button[item[4]].on_click(lambda x: button_reaction.save_name(item[4]) ) # \" controller_button['L2'] \"\n",
    "button[item[5]].on_click(lambda x: button_reaction.save_name(item[5]) ) # \" controller_button['R2'] \"\n",
    "button[item[6]].on_click(lambda x: button_reaction.save_name(item[6]) ) # \" controller_button['start'] \"\n",
    "button[item[7]].on_click(lambda x: button_reaction.save_name(item[7]) ) # \" controller_button['select'] \""
   ]
  },
  {
   "cell_type": "markdown",
   "metadata": {},
   "source": [
    "Second is creating slider , link controller and slider.\n",
    "If you don't use controlle , please do not run below code."
   ]
  },
  {
   "cell_type": "markdown",
   "metadata": {},
   "source": [
    "If you use controller , please run below code."
   ]
  },
  {
   "cell_type": "markdown",
   "metadata": {},
   "source": [
    "# Start Collect data!"
   ]
  },
  {
   "cell_type": "code",
   "execution_count": 11,
   "metadata": {},
   "outputs": [
    {
     "data": {
      "application/vnd.jupyter.widget-view+json": {
       "model_id": "900beea228a64f8bb44a362c5da11a1e",
       "version_major": 2,
       "version_minor": 0
      },
      "text/plain": [
       "HBox(children=(Image(value=b'\\xff\\xd8\\xff\\xe0\\x00\\x10JFIF\\x00\\x01\\x01\\x00\\x00\\x01\\x00\\x01\\x00\\x00\\xff\\xdb\\x00C…"
      ]
     },
     "metadata": {},
     "output_type": "display_data"
    },
    {
     "data": {
      "application/vnd.jupyter.widget-view+json": {
       "model_id": "762b16057d694c7892a26e7178866ef8",
       "version_major": 2,
       "version_minor": 0
      },
      "text/plain": [
       "HBox(children=(Button(button_style='primary', description='free', layout=Layout(height='64px', width='128px'),…"
      ]
     },
     "metadata": {},
     "output_type": "display_data"
    },
    {
     "data": {
      "application/vnd.jupyter.widget-view+json": {
       "model_id": "1ad9f344c54341a992633d184a298466",
       "version_major": 2,
       "version_minor": 0
      },
      "text/plain": [
       "HBox(children=(Button(button_style='success', description='green_light', layout=Layout(height='64px', width='1…"
      ]
     },
     "metadata": {},
     "output_type": "display_data"
    },
    {
     "data": {
      "application/vnd.jupyter.widget-view+json": {
       "model_id": "9fdcd0dd757c491c8f5c7cfa547c7d49",
       "version_major": 2,
       "version_minor": 0
      },
      "text/plain": [
       "HBox(children=(Button(button_style='danger', description='red_light', layout=Layout(height='64px', width='128p…"
      ]
     },
     "metadata": {},
     "output_type": "display_data"
    },
    {
     "data": {
      "application/vnd.jupyter.widget-view+json": {
       "model_id": "25f9e8c294ef42e597e78d6954656161",
       "version_major": 2,
       "version_minor": 0
      },
      "text/plain": [
       "HBox(children=(Button(button_style='info', description='parking', layout=Layout(height='64px', width='128px'),…"
      ]
     },
     "metadata": {},
     "output_type": "display_data"
    },
    {
     "data": {
      "application/vnd.jupyter.widget-view+json": {
       "model_id": "4a6cd3b2fbed4177b59cbb08c9d16132",
       "version_major": 2,
       "version_minor": 0
      },
      "text/plain": [
       "HBox(children=(Button(button_style='danger', description='zebra', layout=Layout(height='64px', width='128px'),…"
      ]
     },
     "metadata": {},
     "output_type": "display_data"
    },
    {
     "data": {
      "application/vnd.jupyter.widget-view+json": {
       "model_id": "44505b37c1d64fbc9c16d00c9f8abd1c",
       "version_major": 2,
       "version_minor": 0
      },
      "text/plain": [
       "HBox(children=(Button(description='fence_open', layout=Layout(height='64px', width='128px'), style=ButtonStyle…"
      ]
     },
     "metadata": {},
     "output_type": "display_data"
    },
    {
     "data": {
      "application/vnd.jupyter.widget-view+json": {
       "model_id": "28b5804d2af04c7b88d78a7a622fca6a",
       "version_major": 2,
       "version_minor": 0
      },
      "text/plain": [
       "HBox(children=(Button(button_style='primary', description='fence_close', layout=Layout(height='64px', width='1…"
      ]
     },
     "metadata": {},
     "output_type": "display_data"
    },
    {
     "data": {
      "application/vnd.jupyter.widget-view+json": {
       "model_id": "3cb574e52a414a10b8aa0a8a61e95fba",
       "version_major": 2,
       "version_minor": 0
      },
      "text/plain": [
       "HBox(children=(Button(button_style='success', description='duck', layout=Layout(height='64px', width='128px'),…"
      ]
     },
     "metadata": {},
     "output_type": "display_data"
    }
   ],
   "source": [
    "display(widgets.HBox([image]))\n",
    "\n",
    "for text in item:\n",
    "    display(widgets.HBox([button[text] , count[text]]))"
   ]
  },
  {
   "cell_type": "markdown",
   "metadata": {},
   "source": [
    "Sometimes the folder will has checkpoint of ipython , we need delete it ."
   ]
  },
  {
   "cell_type": "code",
   "execution_count": 12,
   "metadata": {},
   "outputs": [],
   "source": [
    "!rm -rf dataset/0_free/.ipynb_checkpoints\n",
    "!rm -rf dataset/1_green_light/.ipynb_checkpoints\n",
    "!rm -rf dataset/2_red_light/.ipynb_checkpoints\n",
    "!rm -rf dataset/3_parking/.ipynb_checkpoints\n",
    "!rm -rf dataset/4_zebra/.ipynb_checkpoints\n",
    "!rm -rf dataset/5_fence_open/.ipynb_checkpoints\n",
    "!rm -rf dataset/6_fence_close/.ipynb_checkpoints\n",
    "!rm -rf dataset/7_duck/.ipynb_checkpoints\n"
   ]
  },
  {
   "cell_type": "markdown",
   "metadata": {},
   "source": [
    "Before shutdown this code , will need to unobserve camera "
   ]
  },
  {
   "cell_type": "code",
   "execution_count": 15,
   "metadata": {},
   "outputs": [],
   "source": [
    "camera.running = False"
   ]
  },
  {
   "cell_type": "code",
   "execution_count": null,
   "metadata": {},
   "outputs": [],
   "source": []
  }
 ],
 "metadata": {
  "kernelspec": {
   "display_name": "Python 3",
   "language": "python",
   "name": "python3"
  },
  "language_info": {
   "codemirror_mode": {
    "name": "ipython",
    "version": 3
   },
   "file_extension": ".py",
   "mimetype": "text/x-python",
   "name": "python",
   "nbconvert_exporter": "python",
   "pygments_lexer": "ipython3",
   "version": "3.6.9"
  }
 },
 "nbformat": 4,
 "nbformat_minor": 4
}

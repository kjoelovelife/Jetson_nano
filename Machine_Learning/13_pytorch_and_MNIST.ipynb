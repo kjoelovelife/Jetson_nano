{
 "cells": [
  {
   "cell_type": "code",
   "execution_count": 1,
   "metadata": {},
   "outputs": [],
   "source": [
    "# example : https://hackmd.io/@lido2370/SJMPbNnKN?type=view\n",
    "#           https://morvanzhou.github.io/tutorials/machine-learning/torch/4-01-CNN/\n",
    "#           https://morvanzhou.github.io/tutorials/machine-learning/torch/3-02-classification/\n",
    "#           https://discuss.pytorch.org/t/runtimeerror-multi-target-not-supported-newbie/10216/4\n",
    "#           https://brohrer.mcknote.com/zh-Hant/how_machine_learning_works/how_convolutional_neural_networks_work.html\n",
    "\n",
    "from torch.autograd import Variable\n",
    "import torch , torchvision\n",
    "import matplotlib.pyplot as plt\n",
    "import numpy as np\n",
    "import torch.nn.functional as activite\n",
    "import torch.utils.data as Data"
   ]
  },
  {
   "cell_type": "code",
   "execution_count": 22,
   "metadata": {},
   "outputs": [
    {
     "data": {
      "text/plain": [
       "<matplotlib.image.AxesImage at 0x7f819e34e898>"
      ]
     },
     "execution_count": 22,
     "metadata": {},
     "output_type": "execute_result"
    },
    {
     "data": {
      "image/png": "[encoded data removed]",
      "text/plain": [
       "<Figure size 432x288 with 1 Axes>"
      ]
     },
     "metadata": {
      "needs_background": "light"
     },
     "output_type": "display_data"
    }
   ],
   "source": [
    "# Step1. Download MNIST dataset and prepare dataset to train\n",
    "\n",
    "## choose seed of random \n",
    "np.random.seed(0)\n",
    "torch.manual_seed(0)    # reproducible\n",
    "\n",
    "## setup parameter       \n",
    "BATCH_SIZE   = 50\n",
    "image_number = 2000\n",
    "  \n",
    "## Download data of MNIST \n",
    "DOWNLOAD_MNIST = False   # If you don't want to download , please setup \"False\"\n",
    "data_path = './mnist/'\n",
    "\n",
    "train_data = torchvision.datasets.MNIST(\n",
    "    root = data_path,    \n",
    "    train = True,  # this is training data\n",
    "    transform = torchvision.transforms.ToTensor(),                                                     \n",
    "    download = DOWNLOAD_MNIST,          \n",
    ")\n",
    "\n",
    "test_data = torchvision.datasets.MNIST( root = data_path , train = False )\n",
    "\n",
    "## Train 50 samples by one epoch , 1 channel , 28x28 (50, 1, 28, 28)\n",
    "train_loader = Data.DataLoader(dataset=train_data, batch_size=BATCH_SIZE, shuffle=True)\n",
    "\n",
    "\n",
    "## we just test 2000 image\n",
    "test_image = torch.unsqueeze(test_data.test_data, dim=1).type(torch.FloatTensor)[:image_number]/255.   # shape from (2000, 28, 28) to (2000, 1, 28, 28), value in range(0,1)\n",
    "\n",
    "test_label = test_data.test_labels[:image_number]\n",
    "\n",
    "\n",
    "## show number\n",
    "test_image_numpy = test_image.data.numpy()\n",
    "first_image      = np.reshape( test_image_numpy[0] , (28,28) )\n",
    "plt.imshow(first_image, cmap=plt.get_cmap('gray'))"
   ]
  },
  {
   "cell_type": "code",
   "execution_count": 5,
   "metadata": {},
   "outputs": [
    {
     "name": "stdout",
     "output_type": "stream",
     "text": [
      "CNN(\n",
      "  (conv1): Sequential(\n",
      "    (0): Conv2d(1, 16, kernel_size=(5, 5), stride=(1, 1), padding=(2, 2))\n",
      "    (1): ReLU()\n",
      "    (2): MaxPool2d(kernel_size=2, stride=2, padding=0, dilation=1, ceil_mode=False)\n",
      "  )\n",
      "  (conv2): Sequential(\n",
      "    (0): Conv2d(16, 32, kernel_size=(5, 5), stride=(1, 1), padding=(2, 2))\n",
      "    (1): ReLU()\n",
      "    (2): MaxPool2d(kernel_size=2, stride=2, padding=0, dilation=1, ceil_mode=False)\n",
      "  )\n",
      "  (out): Linear(in_features=1568, out_features=10, bias=True)\n",
      ")\n"
     ]
    }
   ],
   "source": [
    "# Step2. Build CNN model\n",
    "# information : https://ptorch.com/news/57.html\n",
    "#               https://ptorch.com/news/8.html\n",
    "#               https://medium.com/@chih.sheng.huang821/%E5%8D%B7%E7%A9%8D%E7%A5%9E%E7%B6%93%E7%B6%B2%E8%B7%AF-convolutional-neural-network-cnn-%E5%8D%B7%E7%A9%8D%E8%A8%88%E7%AE%97%E4%B8%AD%E7%9A%84%E6%AD%A5%E4%BC%90-stride-%E5%92%8C%E5%A1%AB%E5%85%85-padding-94449e638e82\n",
    "#               https://medium.com/@chih.sheng.huang821/%E5%8D%B7%E7%A9%8D%E7%A5%9E%E7%B6%93%E7%B6%B2%E8%B7%AF-convolutional-neural-network-cnn-%E5%8D%B7%E7%A9%8D%E9%81%8B%E7%AE%97-%E6%B1%A0%E5%8C%96%E9%81%8B%E7%AE%97-856330c2b703\n",
    "class CNN(torch.nn.Module):\n",
    "    def __init__(self):\n",
    "        super(CNN,self).__init__()\n",
    "        self.conv1 = torch.nn.Sequential(  # input shape( 1 ,28 ,28 )\n",
    "          torch.nn.Conv2d(\n",
    "            in_channels  = 1 , # input height\n",
    "            out_channels = 16, # number_filters\n",
    "            kernel_size  = 5 , # filter size \n",
    "            stride       = 1 , # filter step  \n",
    "            padding      = 2 , # if want to keep the size of image , padding = ( kernel_size - 1) / 2  when stride = 1\n",
    "              \n",
    "                        ), # ouput shape (16,28,28) \n",
    "          torch.nn.ReLU(), # activation\n",
    "          torch.nn.MaxPool2d(kernel_size = 2) , # ouput shape (16,14,14)  \n",
    "        )  # self.conv1\n",
    "        self.conv2 = torch.nn.Sequential( # input shape( 16,14,14 )\n",
    "          torch.nn.Conv2d(\n",
    "            in_channels  = 16 , # input height\n",
    "            out_channels = 32 , # number_filters\n",
    "            kernel_size  = 5  , # filter size \n",
    "            stride       = 1  , # filter step  \n",
    "            padding      = 2  , # if want to keep the size of image , padding = ( kernel_size - 1) / 2  when stride = 1\n",
    "                         ),\n",
    "          torch.nn.ReLU(), # activation\n",
    "          torch.nn.MaxPool2d(kernel_size = 2) , # ouput shape (32,7,7) \n",
    "        )  # sel.conv2\n",
    "        self.out = torch.nn.Linear( 32*7*7 , 10 )\n",
    "        \n",
    "    def forward(self , input_tensor):\n",
    "        first_layer_out  = self.conv1(input_tensor)\n",
    "        second_layer_out = self.conv2(first_layer_out)\n",
    "        second_layer_out = second_layer_out.view(second_layer_out.size(0) , -1  )  # Flatten and send value to output layer\n",
    "        output = self.out(second_layer_out)\n",
    "        return output , second_layer_out\n",
    "    \n",
    "cnn = CNN()            \n",
    "print(cnn)"
   ]
  },
  {
   "cell_type": "code",
   "execution_count": 9,
   "metadata": {},
   "outputs": [
    {
     "name": "stdout",
     "output_type": "stream",
     "text": [
      "Epoch:  0 | train loss: 0.2351 | test accuracy: 0.93\n",
      "Epoch:  0 | train loss: 0.1910 | test accuracy: 0.94\n",
      "Epoch:  0 | train loss: 0.1483 | test accuracy: 0.94\n",
      "Epoch:  0 | train loss: 0.1048 | test accuracy: 0.95\n",
      "Epoch:  0 | train loss: 0.2476 | test accuracy: 0.96\n",
      "Epoch:  0 | train loss: 0.0138 | test accuracy: 0.96\n",
      "Epoch:  0 | train loss: 0.0256 | test accuracy: 0.97\n",
      "Epoch:  0 | train loss: 0.0447 | test accuracy: 0.96\n",
      "Epoch:  0 | train loss: 0.2071 | test accuracy: 0.97\n",
      "Epoch:  0 | train loss: 0.0670 | test accuracy: 0.97\n",
      "Epoch:  0 | train loss: 0.1421 | test accuracy: 0.97\n",
      "Epoch:  0 | train loss: 0.1536 | test accuracy: 0.97\n",
      "Epoch:  0 | train loss: 0.5390 | test accuracy: 0.97\n",
      "Epoch:  0 | train loss: 0.0887 | test accuracy: 0.98\n",
      "Epoch:  0 | train loss: 0.0612 | test accuracy: 0.98\n",
      "Epoch:  0 | train loss: 0.0344 | test accuracy: 0.98\n",
      "Epoch:  0 | train loss: 0.0619 | test accuracy: 0.97\n",
      "Epoch:  0 | train loss: 0.3124 | test accuracy: 0.96\n",
      "Epoch:  0 | train loss: 0.0639 | test accuracy: 0.98\n",
      "Epoch:  0 | train loss: 0.0810 | test accuracy: 0.98\n",
      "Epoch:  0 | train loss: 0.0174 | test accuracy: 0.98\n",
      "Epoch:  0 | train loss: 0.0627 | test accuracy: 0.98\n",
      "Epoch:  0 | train loss: 0.0491 | test accuracy: 0.98\n",
      "Epoch:  0 | train loss: 0.0118 | test accuracy: 0.98\n"
     ]
    }
   ],
   "source": [
    "# Step3. Train CNN model\n",
    "\n",
    "## setup parameter       \n",
    "Learning_Rate = 0.001\n",
    "EPOCH = 1\n",
    "\n",
    "## choose optimizer and loss_function\n",
    "optimizer = torch.optim.Adam(cnn.parameters(), lr=Learning_Rate)   # optimize all cnn parameters\n",
    "loss_function = torch.nn.CrossEntropyLoss()                        # the target label is not one-hotted\n",
    "\n",
    "\n",
    "# training and testing\n",
    "# information: https://www.itread01.com/content/1541821590.html\n",
    "for epoch in range(EPOCH):\n",
    "    for step, (batch_input, batch_label) in enumerate(train_loader):\n",
    "        output = cnn(batch_input)[0]    # output is the probability about number 0 ~ 9 \n",
    "        loss = loss_function(output , batch_label)\n",
    "        optimizer.zero_grad()           # clear gradients for this training step\n",
    "        loss.backward()                 # backpropagation, compute gradients\n",
    "        optimizer.step()                # apply gradients\n",
    "        \n",
    "        if (step + 1) % 50 == 0 :\n",
    "            test_output, last_layer_output = cnn(test_image)\n",
    "            prediction_label = torch.max(test_output , 1)[1].data.numpy()\n",
    "            accuracy = float((prediction_label == test_label.data.numpy()).astype(int).sum()) / float(test_label.size(0))\n",
    "            print('Epoch: ', epoch, '| train loss: %.4f' % loss.data.numpy(), '| test accuracy: %.2f' % accuracy)\n"
   ]
  },
  {
   "cell_type": "code",
   "execution_count": 31,
   "metadata": {},
   "outputs": [
    {
     "name": "stdout",
     "output_type": "stream",
     "text": [
      "predict nuber : 7\n",
      "real number   : 7\n"
     ]
    },
    {
     "data": {
      "image/png": "[encoded data removed]",
      "text/plain": [
       "<Figure size 432x288 with 1 Axes>"
      ]
     },
     "metadata": {
      "needs_background": "light"
     },
     "output_type": "display_data"
    },
    {
     "name": "stdout",
     "output_type": "stream",
     "text": [
      "predict nuber : 2\n",
      "real number   : 2\n"
     ]
    },
    {
     "data": {
      "image/png": "[encoded data removed]",
      "text/plain": [
       "<Figure size 432x288 with 1 Axes>"
      ]
     },
     "metadata": {
      "needs_background": "light"
     },
     "output_type": "display_data"
    },
    {
     "name": "stdout",
     "output_type": "stream",
     "text": [
      "predict nuber : 1\n",
      "real number   : 1\n"
     ]
    },
    {
     "data": {
      "image/png": "[encoded data removed]",
      "text/plain": [
       "<Figure size 432x288 with 1 Axes>"
      ]
     },
     "metadata": {
      "needs_background": "light"
     },
     "output_type": "display_data"
    },
    {
     "name": "stdout",
     "output_type": "stream",
     "text": [
      "predict nuber : 0\n",
      "real number   : 0\n"
     ]
    },
    {
     "data": {
      "image/png": "[encoded data removed]",
      "text/plain": [
       "<Figure size 432x288 with 1 Axes>"
      ]
     },
     "metadata": {
      "needs_background": "light"
     },
     "output_type": "display_data"
    },
    {
     "name": "stdout",
     "output_type": "stream",
     "text": [
      "predict nuber : 4\n",
      "real number   : 4\n"
     ]
    },
    {
     "data": {
      "image/png": "[encoded data removed]",
      "text/plain": [
       "<Figure size 432x288 with 1 Axes>"
      ]
     },
     "metadata": {
      "needs_background": "light"
     },
     "output_type": "display_data"
    },
    {
     "name": "stdout",
     "output_type": "stream",
     "text": [
      "predict nuber : 1\n",
      "real number   : 1\n"
     ]
    },
    {
     "data": {
      "image/png": "[encoded data removed]",
      "text/plain": [
       "<Figure size 432x288 with 1 Axes>"
      ]
     },
     "metadata": {
      "needs_background": "light"
     },
     "output_type": "display_data"
    },
    {
     "name": "stdout",
     "output_type": "stream",
     "text": [
      "predict nuber : 4\n",
      "real number   : 4\n"
     ]
    },
    {
     "data": {
      "image/png": "[encoded data removed]",
      "text/plain": [
       "<Figure size 432x288 with 1 Axes>"
      ]
     },
     "metadata": {
      "needs_background": "light"
     },
     "output_type": "display_data"
    },
    {
     "name": "stdout",
     "output_type": "stream",
     "text": [
      "predict nuber : 9\n",
      "real number   : 9\n"
     ]
    },
    {
     "data": {
      "image/png": "[encoded data removed]",
      "text/plain": [
       "<Figure size 432x288 with 1 Axes>"
      ]
     },
     "metadata": {
      "needs_background": "light"
     },
     "output_type": "display_data"
    },
    {
     "name": "stdout",
     "output_type": "stream",
     "text": [
      "predict nuber : 5\n",
      "real number   : 5\n"
     ]
    },
    {
     "data": {
      "image/png": "[encoded data removed]",
      "text/plain": [
       "<Figure size 432x288 with 1 Axes>"
      ]
     },
     "metadata": {
      "needs_background": "light"
     },
     "output_type": "display_data"
    },
    {
     "name": "stdout",
     "output_type": "stream",
     "text": [
      "predict nuber : 9\n",
      "real number   : 9\n"
     ]
    },
    {
     "data": {
      "image/png": "[encoded data removed]",
      "text/plain": [
       "<Figure size 432x288 with 1 Axes>"
      ]
     },
     "metadata": {
      "needs_background": "light"
     },
     "output_type": "display_data"
    }
   ],
   "source": [
    "# Step4. view the prediction\n",
    "\n",
    "want_to_view = 10\n",
    "\n",
    "view_output = cnn(test_image[ : want_to_view] )[0]\n",
    "view_prediction = torch.max(view_output , 1)[1].data.numpy()\n",
    "\n",
    "for index in range( want_to_view ):\n",
    "    plt.cla()\n",
    "    print ( \"predict nuber : {}\".format( view_prediction[ index ] ) )\n",
    "    print ( \"real number   : {}\".format( test_label[ : want_to_view ].numpy()[ index ]  ))\n",
    "    number_image = np.reshape( test_image_numpy[ index ] , (28,28) )\n",
    "    plt.imshow(number_image, cmap=plt.get_cmap('gray'))\n",
    "    plt.show()\n"
   ]
  },
  {
   "cell_type": "code",
   "execution_count": null,
   "metadata": {},
   "outputs": [],
   "source": []
  },
  {
   "cell_type": "code",
   "execution_count": null,
   "metadata": {},
   "outputs": [],
   "source": []
  }
 ],
 "metadata": {
  "kernelspec": {
   "display_name": "Python 3",
   "language": "python",
   "name": "python3"
  },
  "language_info": {
   "codemirror_mode": {
    "name": "ipython",
    "version": 3
   },
   "file_extension": ".py",
   "mimetype": "text/x-python",
   "name": "python",
   "nbconvert_exporter": "python",
   "pygments_lexer": "ipython3",
   "version": "3.6.8"
  }
 },
 "nbformat": 4,
 "nbformat_minor": 4
}

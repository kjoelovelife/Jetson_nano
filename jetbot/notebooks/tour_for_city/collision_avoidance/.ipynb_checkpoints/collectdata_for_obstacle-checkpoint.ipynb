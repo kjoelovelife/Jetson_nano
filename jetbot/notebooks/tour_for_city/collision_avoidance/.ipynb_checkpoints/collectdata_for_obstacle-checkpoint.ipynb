{
 "cells": [
  {
   "cell_type": "markdown",
   "metadata": {},
   "source": [
    "### Step1. import library"
   ]
  },
  {
   "cell_type": "code",
   "execution_count": null,
   "metadata": {},
   "outputs": [],
   "source": [
    "import traitlets , time\n",
    "import ipywidgets.widgets as widgets\n",
    "from IPython.display import display\n",
    "from jetbot import Camera, bgr8_to_jpeg\n",
    "from jetbot import Robot"
   ]
  },
  {
   "cell_type": "markdown",
   "metadata": {},
   "source": [
    "### Step2. define robot motion"
   ]
  },
  {
   "cell_type": "code",
   "execution_count": null,
   "metadata": {},
   "outputs": [],
   "source": [
    "robot = Robot()\n",
    "speed = 0.5\n",
    "sleep_time = 0.1\n",
    "\n",
    "def stop(change):\n",
    "    robot.stop()\n",
    "    \n",
    "def step_forward(change):\n",
    "    robot.forward(speed)\n",
    "    time.sleep(sleep_time)\n",
    "    robot.stop()\n",
    "\n",
    "def step_backward(change):\n",
    "    robot.backward(speed)\n",
    "    time.sleep(sleep_time)\n",
    "    robot.stop()\n",
    "\n",
    "def step_left(change):\n",
    "    robot.left(speed)\n",
    "    time.sleep(sleep_time)\n",
    "    robot.stop()\n",
    "\n",
    "def step_right(change):\n",
    "    robot.right(speed)\n",
    "    time.sleep(sleep_time)\n",
    "    robot.stop()"
   ]
  },
  {
   "cell_type": "markdown",
   "metadata": {},
   "source": [
    "### Step3. Create buttons and link motion\n",
    "\n",
    "creat buttons to control the car.\n",
    "\n",
    "But these buttons wont do anything whule creating. We have to attach functions to move the car. "
   ]
  },
  {
   "cell_type": "code",
   "execution_count": null,
   "metadata": {},
   "outputs": [],
   "source": [
    "# create buttons\n",
    "button_layout = widgets.Layout(width='100px', height='80px', align_self='center')\n",
    "stop_button = widgets.Button(description='stop', button_style='danger', layout=button_layout)\n",
    "forward_button = widgets.Button(description='forward', layout=button_layout)\n",
    "backward_button = widgets.Button(description='backward', layout=button_layout)\n",
    "left_button = widgets.Button(description='left', layout=button_layout)\n",
    "right_button = widgets.Button(description='right', layout=button_layout)\n",
    "\n",
    "# display buttons\n",
    "middle_box = widgets.HBox([left_button, stop_button, right_button], layout=widgets.Layout(align_self='center'))\n",
    "controls_box = widgets.VBox([forward_button, middle_box, backward_button])\n",
    "display(controls_box)\n",
    "\n",
    "# link buttons to actions\n",
    "stop_button.on_click(stop)\n",
    "forward_button.on_click(step_forward)\n",
    "backward_button.on_click(step_backward)\n",
    "left_button.on_click(step_left)\n",
    "right_button.on_click(step_right)"
   ]
  },
  {
   "cell_type": "markdown",
   "metadata": {},
   "source": [
    "### Display live camera feed\n",
    "\n",
    "So let's get started.  First, let's initialize and display our camera like we did in the *teleoperation* notebook.  \n",
    "\n",
    "> Our neural network takes a 224x224 pixel image as input.  We'll set our camera to that size to minimize the filesize of our dataset (we've tested that it works for this task).\n",
    "> In some scenarios it may be better to collect data in a larger image size and downscale to the desired size later."
   ]
  },
  {
   "cell_type": "code",
   "execution_count": null,
   "metadata": {},
   "outputs": [],
   "source": [
    "camera = Camera.instance(capture_flip = 2,width=224, height=224)\n",
    "\n",
    "image = widgets.Image(format='jpeg', width=224, height=224 )  # this width and height doesn't necessarily have to match the camera\n",
    "\n",
    "camera_link = traitlets.dlink((camera, 'value'), (image, 'value'), transform=bgr8_to_jpeg)\n",
    "\n",
    "display(image)"
   ]
  },
  {
   "cell_type": "markdown",
   "metadata": {},
   "source": [
    "Awesome, next let's create a few directories where we'll store all our data. We'll create a folder dataset that will contain two sub-folders free and blocked, where we'll place the images for each scenario."
   ]
  },
  {
   "cell_type": "code",
   "execution_count": null,
   "metadata": {},
   "outputs": [],
   "source": [
    "import os\n",
    "\n",
    "item = ['free' , 'green_light' , 'red_light' , 'parking']\n",
    "dataset_dir = {}\n",
    "for name in item:\n",
    "    dataset_dir[name]= 'dataset/' + str( item.index(name) ) + '_' + name\n",
    "    print(dataset_dir[name])\n",
    "# we have this \"try/except\" statement because these next functions can throw an error if the directories exist already\n",
    "\n",
    "try:\n",
    "    for name in dataset_dir.keys() :\n",
    "        os.makedirs(dataset_dir[name])\n",
    "except FileExistsError:\n",
    "    print('Directories not created becasue they already exist')"
   ]
  },
  {
   "cell_type": "markdown",
   "metadata": {},
   "source": [
    "If you refresh the Jupyter file browser on the left, you should now see those directories appear.  Next, let's create and display some buttons that we'll use to save snapshots\n",
    "for each class label.  We'll also add some text boxes that will display how many images of each category that we've collected so far. This is useful because we want to make\n",
    "sure we collect about as many ``free`` images as ``blocked`` images.  It also helps to know how many images we've collected overall."
   ]
  },
  {
   "cell_type": "code",
   "execution_count": null,
   "metadata": {},
   "outputs": [],
   "source": [
    "button_layout = widgets.Layout(width='128px', height='64px')\n",
    "button_style = ['primary', 'success', 'info', 'warning', 'danger', '']\n",
    "\n",
    "button = {}\n",
    "count  = {}\n",
    "\n",
    "for name in item:\n",
    "    button[ name ] = widgets.Button(description= name, button_style='success', layout=button_layout)\n",
    "    count[ name ]  = widgets.IntText(layout=button_layout, value=len(os.listdir( dataset_dir[name])))\n",
    "    display(widgets.HBox([ button[ name], count[name] ] ) ) \n",
    "    button[ name ].button_style = button_style[ item.index(name) % 6 ]\n",
    "\n",
    "## you can change the color of button\n",
    "button[ 'green_light' ].button_style = 'primary' \n",
    "button[ 'green_light' ].button_style = 'success'    \n",
    "button[ 'red_light' ].button_style = 'danger'\n",
    "button[ 'parking' ].button_style = 'info'"
   ]
  },
  {
   "cell_type": "markdown",
   "metadata": {},
   "source": [
    "Right now, these buttons wont do anything.  We have to attach functions to save images for each category to the buttons' ``on_click`` event.  We'll save the value\n",
    "of the ``Image`` widget (rather than the camera), because it's already in compressed JPEG format!\n",
    "\n",
    "To make sure we don't repeat any file names (even across different machines!) we'll use the ``uuid`` package in python, which defines the ``uuid1`` method to generate\n",
    "a unique identifier.  This unique identifier is generated from information like the current time and the machine address."
   ]
  },
  {
   "cell_type": "code",
   "execution_count": null,
   "metadata": {},
   "outputs": [],
   "source": [
    "from uuid import uuid1\n",
    "\n",
    "test = widgets.Text(\n",
    "    value='Hello World',\n",
    "    placeholder='Type something',\n",
    "    description='String:',\n",
    "    disabled=False\n",
    "    )\n",
    "\n",
    "class save_image():\n",
    "    def __init__(self,item , dataset_dir):\n",
    "        self.item = item\n",
    "        self.dataset_dir = dataset_dir\n",
    "\n",
    "    def save_name(self , kind_of_item):\n",
    "        self.save_snapshot(kind_of_item)\n",
    "        count[ kind_of_item ].value = len(os.listdir( dataset_dir[kind_of_item]))\n",
    "            \n",
    "    def save_snapshot(self,name):\n",
    "        global image_path\n",
    "        image_path = os.path.join(self.dataset_dir[name], str(uuid1()) + '.jpg')\n",
    "        test.value = image_path\n",
    "        with open(image_path, 'wb') as f:\n",
    "            f.write(image.value)      \n",
    "\n",
    "display(widgets.HBox([image,controls_box]))\n",
    "\n",
    "# attach the callbacks, we use a 'lambda' function to ignore the\n",
    "# parameter that the on_click event would provide to our function\n",
    "# because we don't need it.\n",
    "# If you have four serval items to do , please add :  button[item[number]].on_click(lambda x: button_reaction.save_name(item[number]) )\n",
    "# number is your item index , start at 0 .\n",
    "\n",
    "button_reaction = save_image(item,dataset_dir)\n",
    "button[item[0]].on_click(lambda x: button_reaction.save_name(item[0]) )\n",
    "button[item[1]].on_click(lambda x: button_reaction.save_name(item[1]) )\n",
    "button[item[2]].on_click(lambda x: button_reaction.save_name(item[2]) )\n",
    "button[item[3]].on_click(lambda x: button_reaction.save_name(item[3]) )\n",
    "\n",
    "for text in item:\n",
    "    display(widgets.HBox([button[text] , count[text]]))"
   ]
  },
  {
   "cell_type": "markdown",
   "metadata": {},
   "source": [
    "Sometimes the folder will has checkpoint of ipython , we need delete it ."
   ]
  },
  {
   "cell_type": "code",
   "execution_count": null,
   "metadata": {},
   "outputs": [],
   "source": [
    "!rm -rf dataset/0_free/.ipynb_checkpoints"
   ]
  },
  {
   "cell_type": "code",
   "execution_count": null,
   "metadata": {},
   "outputs": [],
   "source": []
  },
  {
   "cell_type": "code",
   "execution_count": null,
   "metadata": {},
   "outputs": [],
   "source": []
  }
 ],
 "metadata": {
  "kernelspec": {
   "display_name": "Python 3",
   "language": "python",
   "name": "python3"
  },
  "language_info": {
   "codemirror_mode": {
    "name": "ipython",
    "version": 3
   },
   "file_extension": ".py",
   "mimetype": "text/x-python",
   "name": "python",
   "nbconvert_exporter": "python",
   "pygments_lexer": "ipython3",
   "version": "3.6.8"
  }
 },
 "nbformat": 4,
 "nbformat_minor": 2
}

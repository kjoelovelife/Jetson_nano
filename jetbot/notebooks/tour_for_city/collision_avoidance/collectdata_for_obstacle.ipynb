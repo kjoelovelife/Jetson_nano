{
 "cells": [
  {
   "cell_type": "markdown",
   "metadata": {},
   "source": [
    "### Step1. import library"
   ]
  },
  {
   "cell_type": "code",
   "execution_count": null,
   "metadata": {},
   "outputs": [],
   "source": [
    "import traitlets , time\n",
    "import ipywidgets.widgets as widgets\n",
    "from IPython.display import display\n",
    "from jetbot import Camera, bgr8_to_jpeg\n",
    "from jetbot import Robot"
   ]
  },
  {
   "cell_type": "markdown",
   "metadata": {},
   "source": [
    "### Step2. define robot motion"
   ]
  },
  {
   "cell_type": "code",
   "execution_count": null,
   "metadata": {},
   "outputs": [],
   "source": [
    "robot = Robot()\n",
    "speed = 0.7\n",
    "sleep_time = 0.1\n",
    "\n",
    "###  for button \n",
    "def stop(change):\n",
    "    robot.stop()\n",
    "    \n",
    "def step_forward(change):\n",
    "    robot.forward(speed)\n",
    "    time.sleep(sleep_time)\n",
    "    robot.stop()\n",
    "\n",
    "def step_backward(change):\n",
    "    robot.backward(speed)\n",
    "    time.sleep(sleep_time)\n",
    "    robot.stop()\n",
    "\n",
    "def step_left(change):\n",
    "    robot.left(speed)\n",
    "    time.sleep(sleep_time)\n",
    "    robot.stop()\n",
    "\n",
    "def step_right(change):\n",
    "    robot.right(speed)\n",
    "    time.sleep(sleep_time)\n",
    "    robot.stop()"
   ]
  },
  {
   "cell_type": "markdown",
   "metadata": {},
   "source": [
    "### Step3. Create buttons ( or controller ) and link motion\n",
    "\n",
    "creat buttons to control the car.\n",
    "\n",
    "But these buttons wont do anything whule creating. We have to attach functions to move the car. "
   ]
  },
  {
   "cell_type": "code",
   "execution_count": null,
   "metadata": {},
   "outputs": [],
   "source": [
    "# create buttons\n",
    "button_layout = widgets.Layout(width='100px', height='80px', align_self='center')\n",
    "stop_button = widgets.Button(description='stop', button_style='danger', layout=button_layout)\n",
    "forward_button = widgets.Button(description='forward', layout=button_layout)\n",
    "backward_button = widgets.Button(description='backward', layout=button_layout)\n",
    "left_button = widgets.Button(description='left', layout=button_layout)\n",
    "right_button = widgets.Button(description='right', layout=button_layout)\n",
    "\n",
    "# display buttons\n",
    "middle_box = widgets.HBox([left_button, stop_button, right_button], layout=widgets.Layout(align_self='center'))\n",
    "controls_box = widgets.VBox([forward_button, middle_box, backward_button])\n",
    "display(controls_box)\n",
    "\n",
    "# link buttons to actions\n",
    "stop_button.on_click(stop)\n",
    "forward_button.on_click(step_forward)\n",
    "backward_button.on_click(step_backward)\n",
    "left_button.on_click(step_left)\n",
    "right_button.on_click(step_right)"
   ]
  },
  {
   "cell_type": "markdown",
   "metadata": {},
   "source": [
    "Or You can use Joystic to control you jetbot.\n",
    "First we will find what button on your joystick."
   ]
  },
  {
   "cell_type": "code",
   "execution_count": null,
   "metadata": {},
   "outputs": [],
   "source": [
    "controller = widgets.Controller(index=0)\n",
    "display(controller)\n",
    "\n",
    "## for HJD-X (Vendor: 2563 Product: 0526)\n",
    "controller_button = {}\n",
    "controller_button['X'] = 3\n",
    "controller_button['Y'] = 4\n",
    "controller_button['B'] = 1\n",
    "controller_button['A'] = 0\n",
    "controller_button['L1'] = 6\n",
    "controller_button['L2'] = 8\n",
    "controller_button['R1'] = 7\n",
    "controller_button['R2'] = 9\n",
    "controller_button['start'] = 11\n",
    "controller_button['select'] = 10\n",
    "controller_button['analog'] = 12"
   ]
  },
  {
   "cell_type": "markdown",
   "metadata": {},
   "source": [
    "All right! Now , we'll connect that to the left and right vertical axes using the dlink function. The dlink function, unlike the link function, allows us to attach a transform between the source and target."
   ]
  },
  {
   "cell_type": "code",
   "execution_count": null,
   "metadata": {},
   "outputs": [],
   "source": [
    "left_link = traitlets.dlink((controller.axes[1], 'value'), (robot.left_motor, 'value'), transform=lambda y: -y)\n",
    "right_link = traitlets.dlink((controller.axes[5], 'value'), (robot.right_motor, 'value'), transform=lambda y: -y)"
   ]
  },
  {
   "cell_type": "markdown",
   "metadata": {},
   "source": [
    "### Display live camera feed\n",
    "\n",
    "So let's get started.  First, let's initialize and display our camera like we did in the *teleoperation* notebook.  \n",
    "\n",
    "> Our neural network takes a 224x224 pixel image as input.  We'll set our camera to that size to minimize the filesize of our dataset (we've tested that it works for this task).\n",
    "> In some scenarios it may be better to collect data in a larger image size and downscale to the desired size later."
   ]
  },
  {
   "cell_type": "code",
   "execution_count": null,
   "metadata": {},
   "outputs": [],
   "source": [
    "camera = Camera.instance(capture_flip = 2,width=224, height=224 , capture_device=1)\n",
    "\n",
    "image = widgets.Image(format='jpeg', width=224, height=224 )  # this width and height doesn't necessarily have to match the camera\n",
    "\n",
    "camera_link = traitlets.dlink((camera, 'value'), (image, 'value'), transform=bgr8_to_jpeg)\n",
    "\n",
    "display(image)"
   ]
  },
  {
   "cell_type": "markdown",
   "metadata": {},
   "source": [
    "Awesome, next let's create a few directories where we'll store all our data. We'll create a folder dataset that will contain two sub-folders free and blocked, where we'll place the images for each scenario."
   ]
  },
  {
   "cell_type": "code",
   "execution_count": null,
   "metadata": {},
   "outputs": [],
   "source": [
    "import os\n",
    "\n",
    "item = ['free' , 'green_light' , 'red_light' , 'parking' , 'zebra' , 'fence_open' , 'fence_close' , 'duck']\n",
    "dataset_dir = {}\n",
    "for name in item:\n",
    "    dataset_dir[name]= 'dataset/' + str( item.index(name) ) + '_' + name\n",
    "    print(dataset_dir[name])\n",
    "# we have this \"try/except\" statement because these next functions can throw an error if the directories exist already\n",
    "\n",
    "try:\n",
    "    for name in dataset_dir.keys() :\n",
    "        os.makedirs(dataset_dir[name])\n",
    "except FileExistsError:\n",
    "    print('Directories not created becasue they already exist')"
   ]
  },
  {
   "cell_type": "markdown",
   "metadata": {},
   "source": [
    "If you refresh the Jupyter file browser on the left, you should now see those directories appear.  Next, let's create and display some buttons that we'll use to save snapshots\n",
    "for each class label.  We'll also add some text boxes that will display how many images of each category that we've collected so far. This is useful because we want to make\n",
    "sure we collect about as many images.  It also helps to know how many images we've collected overall."
   ]
  },
  {
   "cell_type": "code",
   "execution_count": null,
   "metadata": {},
   "outputs": [],
   "source": [
    "button_layout = widgets.Layout(width='128px', height='64px')\n",
    "button_style = ['primary', 'success', 'info', 'warning', 'danger', '']\n",
    "\n",
    "button = {}\n",
    "count  = {}\n",
    "\n",
    "for name in item:\n",
    "    button[ name ] = widgets.Button(description= name, button_style='success', layout=button_layout)\n",
    "    count[ name ]  = widgets.IntText(layout=button_layout, value=len(os.listdir( dataset_dir[name])))\n",
    "    display(widgets.HBox([ button[ name], count[name] ] ) ) \n",
    "    button[ name ].button_style = button_style[ item.index(name) % 6 ]\n",
    "\n",
    "## you can change the color of button\n",
    "button[ 'green_light' ].button_style = 'primary' \n",
    "button[ 'green_light' ].button_style = 'success'    \n",
    "button[ 'red_light' ].button_style = 'danger'\n",
    "button[ 'parking' ].button_style = 'info'"
   ]
  },
  {
   "cell_type": "markdown",
   "metadata": {},
   "source": [
    "Right now, these buttons wont do anything.  We have to attach functions to save images for each category to the buttons' ``on_click`` event.  We'll save the value\n",
    "of the ``Image`` widget (rather than the camera), because it's already in compressed JPEG format!\n",
    "\n",
    "To make sure we don't repeat any file names (even across different machines!) we'll use the ``uuid`` package in python, which defines the ``uuid1`` method to generate\n",
    "a unique identifier.  This unique identifier is generated from information like the current time and the machine address.\n",
    "\n",
    "If you want to test something , you can use it : \n",
    "\n",
    "test = widgets.Text(\n",
    "    value='Hello World',\n",
    "    placeholder='Type something',\n",
    "    description='String:',\n",
    "    disabled=False\n",
    "    )"
   ]
  },
  {
   "cell_type": "code",
   "execution_count": null,
   "metadata": {},
   "outputs": [],
   "source": [
    "from uuid import uuid1\n",
    "\n",
    "class save_image():\n",
    "    def __init__(self,item , dataset_dir):\n",
    "        self.item = item\n",
    "        self.dataset_dir = dataset_dir\n",
    "\n",
    "    def save_name(self , kind_of_item):\n",
    "        self.save_snapshot(kind_of_item)\n",
    "        count[ kind_of_item ].value = len(os.listdir( dataset_dir[kind_of_item]))\n",
    "            \n",
    "    def save_snapshot(self,name):\n",
    "        global image_path\n",
    "        image_path = os.path.join(self.dataset_dir[name], str(uuid1()) + '.jpg')\n",
    "        with open(image_path, 'wb') as f:\n",
    "            f.write(image.value)    \n",
    "\n",
    "            "
   ]
  },
  {
   "cell_type": "markdown",
   "metadata": {},
   "source": [
    "# Notice\n",
    "Now , you can choose keyboard or joystick to teleop Jetbot to collected data.\n",
    "But remember , you just only can select one to do."
   ]
  },
  {
   "cell_type": "markdown",
   "metadata": {},
   "source": [
    "### Use Keyboard "
   ]
  },
  {
   "cell_type": "code",
   "execution_count": null,
   "metadata": {},
   "outputs": [],
   "source": [
    "# attach the callbacks, we use a 'lambda' function to ignore the\n",
    "# parameter that the on_click event would provide to our function\n",
    "# because we don't need it.\n",
    "# If you have four serval items to do , please add :  button[item[number]].on_click(lambda x: button_reaction.save_name(item[number]) )\n",
    "# number is your item index , start at 0 .\n",
    "button_reaction = save_image(item,dataset_dir)\n",
    "button[item[0]].on_click(lambda x: button_reaction.save_name(item[0]) ) # \" controller_button['X'] \"\n",
    "button[item[1]].on_click(lambda x: button_reaction.save_name(item[1]) ) # \" controller_button['Y'] \"\n",
    "button[item[2]].on_click(lambda x: button_reaction.save_name(item[2]) ) # \" controller_button['B'] \"\n",
    "button[item[3]].on_click(lambda x: button_reaction.save_name(item[3]) ) # \" controller_button['A'] \"\n",
    "button[item[4]].on_click(lambda x: button_reaction.save_name(item[4]) ) # \" controller_button['L2'] \"\n",
    "button[item[5]].on_click(lambda x: button_reaction.save_name(item[5]) ) # \" controller_button['R2'] \"\n",
    "button[item[6]].on_click(lambda x: button_reaction.save_name(item[6]) ) # \" controller_button['start'] \"\n",
    "button[item[7]].on_click(lambda x: button_reaction.save_name(item[7]) ) # \" controller_button['select'] \""
   ]
  },
  {
   "cell_type": "markdown",
   "metadata": {},
   "source": [
    "### Use Joystick controller\n",
    "Below code is for controller. First we will show infromation of controller.\n",
    "If you don't use controlle , please do not run below code."
   ]
  },
  {
   "cell_type": "markdown",
   "metadata": {},
   "source": [
    "Second is creating slider , link controller and slider.\n",
    "If you don't use controlle , please do not run below code."
   ]
  },
  {
   "cell_type": "markdown",
   "metadata": {},
   "source": [
    "If you use controller , please run below code."
   ]
  },
  {
   "cell_type": "code",
   "execution_count": null,
   "metadata": {},
   "outputs": [],
   "source": [
    "# for controller \n",
    "# If you have four serval items to do , please add :  controller.buttons[controller_button['X']].observe(lambda x: button_reaction.save_name(item[0]) )\n",
    "# number is your item index , start at 0 .\n",
    "\n",
    "button_reaction = save_image(item,dataset_dir)\n",
    "#controller.buttons[controller_button['X']].observe(lambda X: button_reaction.save_name , names='value' )\n",
    "for b in controller.buttons:\n",
    "    b.unobserve_all()\n",
    "\n",
    "information = widgets.Textarea(\n",
    "    value='Hello ! Default capture picture : free. And L1 is start auto-capture , R1 is stop auto-capture. ',\n",
    "    placeholder='Type something',\n",
    "    description='Status : ',\n",
    "    disabled=False\n",
    "    ) \n",
    "\n",
    "joystick_continus_picture_name = item[0]\n",
    "capture_time = 0.5\n",
    "\n",
    "class joystick():    \n",
    "    def X(change):\n",
    "        global joystick_continus_picture_name\n",
    "        joystick_continus_picture_name = item[0]\n",
    "        if change['new']:\n",
    "            picture = button_reaction.save_name(joystick_continus_picture_name)      \n",
    "            information.value = 'You Preess X and capture picture : {} '.format(joystick_continus_picture_name) \n",
    "            \n",
    "    def Y(change):\n",
    "        global joystick_continus_picture_name\n",
    "        joystick_continus_picture_name = item[1]\n",
    "        if change['new']:\n",
    "            picture = button_reaction.save_name(joystick_continus_picture_name)\n",
    "            information.value = 'You Preess Y and capture picture : {} '.format(joystick_continus_picture_name) \n",
    "            \n",
    "    def B(change):\n",
    "        global joystick_continus_picture_name\n",
    "        joystick_continus_picture_name = item[2]\n",
    "        if change['new']:\n",
    "            picture = button_reaction.save_name(joystick_continus_picture_name)\n",
    "            information.value = 'You Preess B and capture picture : {} '.format(joystick_continus_picture_name) \n",
    "            \n",
    "    def A(change):\n",
    "        global joystick_continus_picture_name\n",
    "        joystick_continus_picture_name = item[3]\n",
    "        if change['new']:\n",
    "            picture = button_reaction.save_name(joystick_continus_picture_name)\n",
    "            information.value = 'You Preess A and capture picture : {} '.format(joystick_continus_picture_name) \n",
    "            \n",
    "    def L2(change):\n",
    "        global joystick_continus_picture_name\n",
    "        joystick_continus_picture_name = item[4]\n",
    "        if change['new']:\n",
    "            picture = button_reaction.save_name(joystick_continus_picture_name)\n",
    "            information.value = 'You Preess A and capture picture : {} '.format(joystick_continus_picture_name)\n",
    "            \n",
    "    def R2(change):\n",
    "        global joystick_continus_picture_name\n",
    "        joystick_continus_picture_name = item[5]\n",
    "        if change['new']:\n",
    "            picture = button_reaction.save_name(joystick_continus_picture_name)\n",
    "            information.value = 'You Preess A and capture picture : {} '.format(joystick_continus_picture_name)\n",
    "            \n",
    "    def start(change):\n",
    "        global joystick_continus_picture_name\n",
    "        joystick_continus_picture_name = item[6]\n",
    "        if change['new']:\n",
    "            picture = button_reaction.save_name(joystick_continus_picture_name)\n",
    "            information.value = 'You Preess A and capture picture : {} '.format(joystick_continus_picture_name)\n",
    "            \n",
    "    def select(change):\n",
    "        global joystick_continus_picture_name\n",
    "        joystick_continus_picture_name = item[7]\n",
    "        if change['new']:\n",
    "            picture = button_reaction.save_name(joystick_continus_picture_name)\n",
    "            information.value = 'You Preess A and capture picture : {} '.format(joystick_continus_picture_name)\n",
    "\n",
    "    def L1(change):\n",
    "        if change['new']:\n",
    "            camera.observe(joystick.update, names='value')\n",
    "            information.value = 'Start! you press L1 and capturing picture : {}'.format(joystick_continus_picture_name) \n",
    "            \n",
    "    def R1(change):\n",
    "        if change['new']:\n",
    "            camera.unobserve(joystick.update, names='value')\n",
    "            information.value = 'Stop! you press R1 and stop capturing picture. ' \n",
    "            \n",
    "    def update(change):\n",
    "        global joystick_continus_picture_name , capture_time\n",
    "        picture = button_reaction.save_name(joystick_continus_picture_name)\n",
    "        time.sleep(capture_time)\n",
    "\n",
    "controller.buttons[controller_button['X']].observe(joystick.X , names='value')\n",
    "controller.buttons[controller_button['Y']].observe(joystick.Y , names='value')\n",
    "controller.buttons[controller_button['A']].observe(joystick.A , names='value')\n",
    "controller.buttons[controller_button['B']].observe(joystick.B , names='value')\n",
    "controller.buttons[controller_button['L2']].observe(joystick.L2 , names='value')\n",
    "controller.buttons[controller_button['R2']].observe(joystick.R2 , names='value')\n",
    "controller.buttons[controller_button['start']].observe(joystick.start , names='value')\n",
    "controller.buttons[controller_button['select']].observe(joystick.select , names='value')\n",
    "controller.buttons[controller_button['L1']].observe(joystick.L1 , names='value')\n",
    "controller.buttons[controller_button['R1']].observe(joystick.R1 , names='value')"
   ]
  },
  {
   "cell_type": "markdown",
   "metadata": {},
   "source": [
    "# Start Collect data!"
   ]
  },
  {
   "cell_type": "code",
   "execution_count": null,
   "metadata": {},
   "outputs": [],
   "source": [
    "display(widgets.HBox([image, controls_box , information ]))\n",
    "\n",
    "for text in item:\n",
    "    display(widgets.HBox([button[text] , count[text]]))"
   ]
  },
  {
   "cell_type": "markdown",
   "metadata": {},
   "source": [
    "Sometimes the folder will has checkpoint of ipython , we need delete it ."
   ]
  },
  {
   "cell_type": "code",
   "execution_count": null,
   "metadata": {},
   "outputs": [],
   "source": [
    "!rm -rf dataset/0_free/.ipynb_checkpoints\n",
    "!rm -rf dataset/1_green_light/.ipynb_checkpoints\n",
    "!rm -rf dataset/2_red_light/.ipynb_checkpoints\n",
    "!rm -rf dataset/3_parking/.ipynb_checkpoints\n",
    "!rm -rf dataset/4_zebra/.ipynb_checkpoints\n",
    "!rm -rf dataset/5_fence_open/.ipynb_checkpoints\n",
    "!rm -rf dataset/6_fence_close/.ipynb_checkpoints\n",
    "!rm -rf dataset/7_duck/.ipynb_checkpoints\n"
   ]
  },
  {
   "cell_type": "markdown",
   "metadata": {},
   "source": [
    "Before shutdown this code , will need to unobserve camera "
   ]
  },
  {
   "cell_type": "code",
   "execution_count": null,
   "metadata": {},
   "outputs": [],
   "source": [
    "camera.unobserve(joystick.update, names='value')"
   ]
  },
  {
   "cell_type": "code",
   "execution_count": null,
   "metadata": {},
   "outputs": [],
   "source": []
  }
 ],
 "metadata": {
  "kernelspec": {
   "display_name": "Python 3",
   "language": "python",
   "name": "python3"
  },
  "language_info": {
   "codemirror_mode": {
    "name": "ipython",
    "version": 3
   },
   "file_extension": ".py",
   "mimetype": "text/x-python",
   "name": "python",
   "nbconvert_exporter": "python",
   "pygments_lexer": "ipython3",
   "version": "3.6.9"
  }
 },
 "nbformat": 4,
 "nbformat_minor": 4
}
